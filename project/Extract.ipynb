{
 "cells": [
  {
   "cell_type": "markdown",
   "id": "6301c66d",
   "metadata": {},
   "source": [
    "UNZIP APPLE HEALTH EXPORT"
   ]
  },
  {
   "cell_type": "code",
   "execution_count": null,
   "id": "ff25d7e6",
   "metadata": {},
   "outputs": [],
   "source": [
    "import zipfile\n",
    "with zipfile.ZipFile('export.zip', 'r') as zip_ref:\n",
    "    zip_ref.extractall()"
   ]
  },
  {
   "cell_type": "markdown",
   "id": "7a7ca720",
   "metadata": {},
   "source": [
    "IMPORT LIBRARIES"
   ]
  },
  {
   "cell_type": "code",
   "execution_count": null,
   "id": "926b8de8",
   "metadata": {},
   "outputs": [],
   "source": [
    "import xml.etree.ElementTree as ET\n",
    "import pandas as pd\n",
    "import datetime as dt\n",
    "import matplotlib.pyplot as plt\n",
    "# plt.style.use(\"fivethirtyeight\")\n",
    "plt.style.use('plot-style.mplstyle')\n",
    "\n",
    "import seaborn as sns\n",
    "\n"
   ]
  },
  {
   "cell_type": "code",
   "execution_count": null,
   "id": "4f7a1ce4",
   "metadata": {},
   "outputs": [],
   "source": [
    "# create element tree object\n",
    "tree = ET.parse('apple_health_export/Export.xml') \n",
    "# for every health record, extract the attributes\n",
    "root = tree.getroot()\n",
    "record_list = [x.attrib for x in root.iter('Record')]"
   ]
  },
  {
   "cell_type": "code",
   "execution_count": null,
   "id": "c8214f5c",
   "metadata": {},
   "outputs": [],
   "source": [
    "import sys"
   ]
  },
  {
   "cell_type": "code",
   "execution_count": null,
   "id": "e9e624a1",
   "metadata": {},
   "outputs": [],
   "source": [
    "record_data = pd.DataFrame(record_list)\n",
    "\n",
    "# proper type to dates\n",
    "for col in ['creationDate', 'startDate', 'endDate']:\n",
    "    record_data[col] = pd.to_datetime(record_data[col])\n",
    "\n",
    "# value is numeric, NaN if fails\n",
    "record_data['value'] = pd.to_numeric(record_data['value'], errors='coerce')\n",
    "\n",
    "# some records do not measure anything, just count occurences\n",
    "# filling with 1.0 (= one time) makes it easier to aggregate\n",
    "record_data['value'] = record_data['value'].fillna(1.0)\n",
    "\n",
    "# shorter observation names\n",
    "record_data['type'] = record_data['type'].str.replace('HKQuantityTypeIdentifier', '')\n",
    "record_data['type'] = record_data['type'].str.replace('HKCategoryTypeIdentifier', '')\n",
    "record_data.tail()"
   ]
  },
  {
   "cell_type": "code",
   "execution_count": null,
   "id": "c8808240",
   "metadata": {},
   "outputs": [],
   "source": [
    "#add time length for each measurement. add date field.\n",
    "record_data['measure_time_secs'] = (record_data['endDate'] - record_data['startDate']).dt.total_seconds()\n",
    "record_data['day'] = record_data['startDate'].dt.date\n",
    "\n",
    "# Create new values field for each measurement type\n",
    "rec_types = record_data.sort_values('type').type.unique()\n",
    "\n",
    "pivoted_rectypes = pd.concat([\n",
    "    record_data.query(f\"type == '{x}'\")['value'].rename(x) for x in rec_types\n",
    "], axis=1)\n",
    "\n",
    "record_data = pd.concat([record_data,pivoted_rectypes],axis=1)\n",
    "record_data.drop(columns=['value', 'type'],inplace=True)\n",
    "\n",
    "#export to file\n",
    "record_data.to_parquet('record_data.parquet',index=False)\n",
    "\n",
    "record_data.head(2)\n"
   ]
  },
  {
   "cell_type": "code",
   "execution_count": null,
   "id": "e61aaf8f",
   "metadata": {},
   "outputs": [],
   "source": [
    "record_data.shape"
   ]
  },
  {
   "cell_type": "code",
   "execution_count": null,
   "id": "fcc65945",
   "metadata": {},
   "outputs": [],
   "source": [
    "workout_list = [x.attrib for x in root.iter('Workout')]\n",
    "\n",
    "# create DataFrame\n",
    "workout_data = pd.DataFrame(workout_list)\n",
    "workout_data['workoutActivityType'] = workout_data['workoutActivityType'].str.replace('HKWorkoutActivityType', '')\n",
    "workout_data = workout_data.rename({\"workoutActivityType\": \"Type\"}, axis=1)\n",
    "\n",
    "# proper type to dates\n",
    "for col in ['creationDate', 'startDate', 'endDate']:\n",
    "    workout_data[col] = pd.to_datetime(workout_data[col])\n",
    " \n",
    "workout_data['day'] = workout_data.startDate.dt.date\n",
    "\n",
    "# convert string to numeric   \n",
    "workout_data['duration'] = pd.to_numeric(workout_data['duration'])\n",
    "workout_data['totalEnergyBurned'] = pd.to_numeric(workout_data['totalEnergyBurned'])\n",
    "workout_data['totalDistance'] = pd.to_numeric(workout_data['totalDistance'])\n",
    "\n",
    "workout_data['Type'] = workout_data['Type'].str.replace('Traditional','')\n",
    "workout_data.rename(columns={'Type':'workoutType'},inplace=True)\n",
    "\n",
    "workout_data.to_parquet('workout_data.parquet',index=False)\n",
    "\n",
    "workout_data.tail(2)"
   ]
  },
  {
   "cell_type": "markdown",
   "id": "d3aabd75",
   "metadata": {},
   "source": [
    "# Sleep HRV DATA"
   ]
  },
  {
   "cell_type": "markdown",
   "id": "9b17ba47",
   "metadata": {},
   "source": [
    "Heart Rate Variability measurements are supposedly more accurate during sleep. Therefore below filters HRV measurements using the Sleep data from the Apple Watch to HRV during sleep only."
   ]
  },
  {
   "cell_type": "code",
   "execution_count": null,
   "id": "a240916c",
   "metadata": {},
   "outputs": [],
   "source": [
    "record_data['date'] = pd.to_datetime(record_data['day'], yearfirst=True)\n",
    "\n",
    "# Get Sleep Times\n",
    "sleep_data = record_data.query(\"SleepAnalysis ==1\").query(\"sourceName == 'George’s Apple\\xa0Watch'\")\n",
    "when_asleep = pd.concat([\n",
    "    sleep_data.groupby('date')['startDate'].min().rename('sleep_start')\n",
    "    , sleep_data.groupby('date')['endDate'].max().rename('sleep_end')\n",
    "], axis=1)\n",
    "\n",
    "# record_data[['startDate','endDate','day','HeartRateVariabilitySDNN']] \n",
    "hrv_data = record_data.dropna(subset='HeartRateVariabilitySDNN')[['startDate','endDate','date','HeartRateVariabilitySDNN']]\n",
    "\n",
    "merged_hrv_sleep = hrv_data.merge(\n",
    "    right=when_asleep,\n",
    "    on='date'\n",
    ")\n",
    "\n",
    "hrv_asleep = merged_hrv_sleep[\n",
    "    (\n",
    "        merged_hrv_sleep.startDate > merged_hrv_sleep.sleep_start\n",
    "    ) & (\n",
    "        merged_hrv_sleep.endDate < merged_hrv_sleep.sleep_end\n",
    "    )\n",
    "]\n",
    "hrv_asleep"
   ]
  },
  {
   "cell_type": "markdown",
   "id": "e19a8775",
   "metadata": {},
   "source": [
    "# GROUPING ETC "
   ]
  },
  {
   "cell_type": "code",
   "execution_count": null,
   "id": "d47424ef",
   "metadata": {},
   "outputs": [],
   "source": [
    "record_data.sourceName.unique()"
   ]
  },
  {
   "cell_type": "code",
   "execution_count": null,
   "id": "5609c633",
   "metadata": {},
   "outputs": [],
   "source": [
    "record_data['type'].unique()"
   ]
  },
  {
   "cell_type": "code",
   "execution_count": null,
   "id": "8bd95c19",
   "metadata": {},
   "outputs": [],
   "source": [
    "record_data.sourceName.unique()"
   ]
  },
  {
   "cell_type": "code",
   "execution_count": null,
   "id": "e14e9d8e",
   "metadata": {},
   "outputs": [],
   "source": [
    "daily_agg = record_data.groupby(['day','type'],dropna=False\n",
    "                               ).agg({'value':['sum','min','max','count','mean']}).reset_index()"
   ]
  },
  {
   "cell_type": "code",
   "execution_count": null,
   "id": "19af669a",
   "metadata": {},
   "outputs": [],
   "source": [
    "record_data[record_data['type'] == 'HighHeartRateEvent']"
   ]
  },
  {
   "cell_type": "code",
   "execution_count": null,
   "id": "7938b5e1",
   "metadata": {},
   "outputs": [],
   "source": [
    "rec_types = record_data.sort_values('type').type.unique()\n",
    "\n",
    "pivoted_rectypes = pd.concat([\n",
    "    record_data.query(f\"type == '{x}'\")['value'].rename(x) for x in rec_types\n",
    "], axis=1)\n",
    "\n",
    "record_data2 = pd.concat([record_data,pivoted_rectypes],axis=1)\n",
    "record_data2.to_parquet('record_data.parquet',index=False)\n",
    "record_data2.head(2)"
   ]
  },
  {
   "cell_type": "markdown",
   "id": "f0992829",
   "metadata": {},
   "source": [
    "MEAN is the same as dropping NA before calculating mean - so avgs will be consistent. \n",
    "**DO NOT FILL NA with zeros or all your daily/hrly avgs will be off.**"
   ]
  },
  {
   "cell_type": "code",
   "execution_count": null,
   "id": "d7b32432",
   "metadata": {},
   "outputs": [],
   "source": [
    "\n",
    "print(pivoted_rectypes['ActiveEnergyBurned'].mean())\n",
    "print(pivoted_rectypes['ActiveEnergyBurned'].dropna().mean())\n",
    "\n"
   ]
  },
  {
   "cell_type": "code",
   "execution_count": null,
   "id": "40d122fa",
   "metadata": {},
   "outputs": [],
   "source": []
  },
  {
   "cell_type": "code",
   "execution_count": null,
   "id": "21083b39",
   "metadata": {},
   "outputs": [],
   "source": [
    "agg_types = {'BodyMass':'mean',\n",
    "'LeanBodyMass':'mean',\n",
    "'BodyFatPercentage':'mean',\n",
    "'OxygenSaturation':'mean',\n",
    "'AppleStandHour':'sum',\n",
    "'EnvironmentalAudioExposure':'mean',\n",
    "'HeadphoneAudioExposure':'mean',\n",
    "'VO2Max':'mean',\n",
    "'HeartRate':'mean',\n",
    "'RestingHeartRate':'mean',\n",
    "'WalkingHeartRateAverage':'mean',\n",
    "'BloodPressureSystolic':'mean',\n",
    "'BloodPressureDiastolic':'mean',\n",
    "'HeartRateVariabilitySDNN':'mean',\n",
    "'StepCount':'sum',\n",
    "'AppleStandTime':'sum',\n",
    "'SleepAnalysis':'sum',\n",
    "'HighHeartRateEvent':'sum',\n",
    "'AudioExposureEvent':'sum',\n",
    "'HeadphoneAudioExposureEvent':'sum'}\n"
   ]
  },
  {
   "cell_type": "code",
   "execution_count": null,
   "id": "3785d72a",
   "metadata": {},
   "outputs": [],
   "source": [
    "# record_data['day'] = record_data['startDate'].dt.date\n",
    "# record_data.to_parquet('full-neaten-health.parquet')"
   ]
  },
  {
   "cell_type": "code",
   "execution_count": null,
   "id": "9bddeb70",
   "metadata": {},
   "outputs": [],
   "source": [
    "daily_data = record_data.groupby('day').agg(agg_types)"
   ]
  },
  {
   "cell_type": "code",
   "execution_count": null,
   "id": "c5082e19",
   "metadata": {},
   "outputs": [],
   "source": [
    "daily_data.to_csv('daily_health_aggregate.csv')\n",
    "daily_data.to_parquet('daily_health_aggregate.parquet')"
   ]
  },
  {
   "cell_type": "code",
   "execution_count": null,
   "id": "26c08e39",
   "metadata": {},
   "outputs": [],
   "source": [
    "daily_data['HeartRateVariabilitySDNN'].tail(365).rolling(window=28).mean().plot()"
   ]
  },
  {
   "cell_type": "code",
   "execution_count": null,
   "id": "0a0f89a3",
   "metadata": {},
   "outputs": [],
   "source": [
    "daily_data['StepCount'].rolling(window=28).mean().plot()"
   ]
  },
  {
   "cell_type": "code",
   "execution_count": null,
   "id": "e2a97304",
   "metadata": {},
   "outputs": [],
   "source": [
    "record_data.to_parquet('full-neaten-health.parquet')"
   ]
  },
  {
   "cell_type": "code",
   "execution_count": null,
   "id": "f4eb9117",
   "metadata": {},
   "outputs": [],
   "source": [
    "daily_agg = {}\n",
    "for a in agg_types:\n",
    "    d = record_data[record_data['type'] == a].copy()\n",
    "    d_daily = d.groupby('day').agg({'value':agg_types[a]})\n",
    "    filter_since_apple_watch = d_daily.loc[pd.Timestamp('2021-07-01').date():]\n",
    "    \n",
    "    daily_agg[a] = filter_since_apple_watch\n",
    "    \n",
    "daily_df = pd.concat([v.rename(columns={'value':k}) for k,v in daily_agg.items()],axis=1)\n",
    "daily_df.head(2)"
   ]
  },
  {
   "cell_type": "code",
   "execution_count": null,
   "id": "dd4d5bb6",
   "metadata": {},
   "outputs": [],
   "source": [
    "daily_df.to_csv('daily_health_agg_new.csv')"
   ]
  },
  {
   "cell_type": "code",
   "execution_count": null,
   "id": "82066161",
   "metadata": {},
   "outputs": [],
   "source": [
    "daily_df"
   ]
  },
  {
   "cell_type": "markdown",
   "id": "e56977fe",
   "metadata": {},
   "source": [
    "# workout specific"
   ]
  },
  {
   "cell_type": "code",
   "execution_count": null,
   "id": "9a8cb208",
   "metadata": {},
   "outputs": [],
   "source": [
    "# import xml.etree.ElementTree as ET\n",
    "# # create element tree object\n",
    "# tree = ET.parse('apple_health_export/Export.xml') \n",
    "# # for every health record, extract the attributes\n",
    "# root = tree.getroot()"
   ]
  },
  {
   "cell_type": "code",
   "execution_count": null,
   "id": "14901672",
   "metadata": {},
   "outputs": [],
   "source": [
    "workout_list = [x.attrib for x in root.iter('Workout')]\n",
    "\n",
    "# create DataFrame\n",
    "workout_data = pd.DataFrame(workout_list)\n",
    "workout_data['workoutActivityType'] = workout_data['workoutActivityType'].str.replace('HKWorkoutActivityType', '')\n",
    "workout_data = workout_data.rename({\"workoutActivityType\": \"Type\"}, axis=1)\n",
    "\n",
    "# proper type to dates\n",
    "for col in ['creationDate', 'startDate', 'endDate']:\n",
    "    workout_data[col] = pd.to_datetime(workout_data[col])\n",
    " \n",
    "# convert string to numeric   \n",
    "workout_data['duration'] = pd.to_numeric(workout_data['duration'])\n",
    "workout_data['totalEnergyBurned'] = pd.to_numeric(workout_data['totalEnergyBurned'])\n",
    "workout_data['totalDistance'] = pd.to_numeric(workout_data['totalDistance'])\n",
    "workout_data.tail()"
   ]
  },
  {
   "cell_type": "code",
   "execution_count": null,
   "id": "50a9388a",
   "metadata": {},
   "outputs": [],
   "source": [
    "num_workouts = workout_data.shape[0]"
   ]
  },
  {
   "cell_type": "code",
   "execution_count": null,
   "id": "a3936ebd",
   "metadata": {},
   "outputs": [],
   "source": [
    "def get_workouts(df, workout_type):\n",
    "    return df[df[\"Type\"] == workout_type]\n",
    "\n",
    "# to see the different workout types use:\n",
    "print(workout_data.Type.unique())\n",
    "# ['Running' 'FunctionalStrengthTraining' 'Yoga'\n",
    "#  'HighIntensityIntervalTraining' 'CoreTraining']\n",
    "\n",
    "running_data = get_workouts(workout_data, \"Running\")"
   ]
  },
  {
   "cell_type": "code",
   "execution_count": null,
   "id": "480e3ab4",
   "metadata": {},
   "outputs": [],
   "source": [
    "def get_workouts_from_to(df, start, end):\n",
    "    start = pd.to_datetime(start, utc=True)\n",
    "    end = pd.to_datetime(end, utc=True)\n",
    "    workouts = df[df[\"creationDate\"] >= start]\n",
    "    workouts = workouts[workouts[\"creationDate\"] <= end]\n",
    "    return workouts\n",
    "\n",
    "lower_time = dt.date(2022, 1, 1)\n",
    "upper_time = dt.date(2023, 1, 1)\n",
    "workouts = get_workouts_from_to(workout_data, lower_time, upper_time)\n",
    "\n",
    "# or relative to the current day\n",
    "# today = dt.date.today()\n",
    "# xdaysago = today - dt.timedelta(days=7)\n",
    "# # first_of_month = today - dt.timedelta(days=today.day - 1)\n",
    "# workouts = get_workouts_from_to(workout_data, xdaysago, today)"
   ]
  },
  {
   "cell_type": "code",
   "execution_count": null,
   "id": "a1ccadfe",
   "metadata": {},
   "outputs": [],
   "source": [
    "workouts.groupby('Type')[['duration','totalDistance','totalEnergyBurned']].describe()"
   ]
  },
  {
   "cell_type": "code",
   "execution_count": null,
   "id": "126ae0c7",
   "metadata": {},
   "outputs": [],
   "source": [
    "last_workout = workouts.iloc[[-1]]"
   ]
  },
  {
   "cell_type": "code",
   "execution_count": null,
   "id": "59898620",
   "metadata": {},
   "outputs": [],
   "source": [
    "workouts[workouts.Type == 'Running']"
   ]
  },
  {
   "cell_type": "code",
   "execution_count": null,
   "id": "8155424e",
   "metadata": {},
   "outputs": [],
   "source": [
    "workouts_data_hr = {}\n",
    "for w in workouts['heartrate'].values:\n",
    "    rel_time = (w['startDate'] - w['startDate'].iloc[0])\n",
    "    w['value']\n",
    "    \n",
    "    workouts_data_hr[w['startDate'].iloc[0]] = pd.concat([rel_time, w['value']] , axis=1)"
   ]
  },
  {
   "cell_type": "code",
   "execution_count": null,
   "id": "1a51c9bd",
   "metadata": {},
   "outputs": [],
   "source": [
    "fig,ax = plt.subplots()\n",
    "\n",
    "for w in workouts_data_hr.values():\n",
    "    ax.plot(w)\n",
    "    \n",
    "fig.tight_layout()\n",
    "fig.show()"
   ]
  },
  {
   "cell_type": "code",
   "execution_count": null,
   "id": "e71091cb",
   "metadata": {},
   "outputs": [],
   "source": [
    "plt.plot(workouts['heartrate'][0]['value'].values)"
   ]
  },
  {
   "cell_type": "code",
   "execution_count": null,
   "id": "89fc0eee",
   "metadata": {},
   "outputs": [],
   "source": [
    "workouts"
   ]
  },
  {
   "cell_type": "code",
   "execution_count": null,
   "id": "7a97d1e4",
   "metadata": {},
   "outputs": [],
   "source": [
    "def get_heartrate_for_workout(heartrate, workout):\n",
    "    def get_heartrate_for_date(hr, start, end):\n",
    "        hr = hr[hr[\"startDate\"] >= start]\n",
    "        hr = hr[hr[\"endDate\"] <= end]\n",
    "        return hr\n",
    "    return get_heartrate_for_date(heartrate, workout[\"startDate\"].item(), workout[\"endDate\"].item())\n",
    "\n",
    "heartrate_data = record_data[record_data[\"type\"] == \"HeartRate\"]\n",
    "\n",
    "# Extract heartrate statistics for certain workout\n",
    "last_workout = workouts.iloc[[-1]]\n",
    "heartrate_workout = get_heartrate_for_workout(heartrate_data, last_workout)\n",
    "minh = heartrate_workout[\"value\"].min()\n",
    "maxh = heartrate_workout[\"value\"].max()\n",
    "meanh = heartrate_workout[\"value\"].mean()\n",
    "print(last_workout.Type.item(), minh, maxh, meanh)\n",
    "# HighIntensityIntervalTraining 74.0 176.0 151.2590909090909\n"
   ]
  },
  {
   "cell_type": "code",
   "execution_count": null,
   "id": "e34ea75d",
   "metadata": {},
   "outputs": [],
   "source": [
    "heartrate_workout.plot(x='endDate', y='value', style='r|', markersize=8.5,  figsize=(12, 6))"
   ]
  },
  {
   "cell_type": "code",
   "execution_count": null,
   "id": "564afb7c",
   "metadata": {},
   "outputs": [],
   "source": [
    "def get_hr_for_workout_row(workout, heartrate):\n",
    "    def get_hr_for_date(hr, start, end):\n",
    "        hr = hr[hr[\"startDate\"] >= start]\n",
    "        hr = hr[hr[\"endDate\"] <= end]\n",
    "        return hr\n",
    "    return get_hr_for_date(heartrate, workout[\"startDate\"], workout[\"endDate\"])\n",
    "\n",
    "def convert_to_minute_proportion(number):\n",
    "    return int(number) + ((number % 1) / 100 * 60)\n",
    "\n",
    "def get_pace_for_workout(workout):\n",
    "    if workout[\"totalDistance\"] == 0.0:\n",
    "        return 0.0\n",
    "    # pace=min/km\n",
    "    pace = workout[\"duration\"] / workout[\"totalDistance\"]\n",
    "    return convert_to_minute_proportion(pace)\n",
    "\n",
    "\n",
    "workouts[\"heartrate\"] = workouts.apply(lambda row: get_hr_for_workout_row(row, heartrate_data), axis=1)\n",
    "workouts[\"hr_mean\"] = workouts.apply(lambda row: row['heartrate'][\"value\"].mean(), axis=1)\n",
    "workouts[\"pace\"] = workouts.apply(lambda row: get_pace_for_workout(row), axis=1)"
   ]
  },
  {
   "cell_type": "code",
   "execution_count": null,
   "id": "2c5def70",
   "metadata": {},
   "outputs": [],
   "source": [
    "def get_stats(workouts):\n",
    "    total_kcal = workouts[\"totalEnergyBurned\"].sum()\n",
    "    total_dist = workouts[\"totalDistance\"].sum()\n",
    "    total_time = workouts[\"duration\"].sum()\n",
    "    total_time_hours = convert_to_minute_proportion(total_time / 60)\n",
    "    total_time_mins = convert_to_minute_proportion(total_time)\n",
    " \n",
    "    avg_kcal = workouts[\"totalEnergyBurned\"].mean()\n",
    "    avg_dist = workouts[workouts[\"Type\"] == \"Running\"][\"totalDistance\"].mean()\n",
    "    avg_pace = workouts[workouts[\"Type\"] == \"Running\"][\"pace\"].mean()\n",
    "    avg_time = workouts[\"duration\"].mean()\n",
    "    avg_time_hours = convert_to_minute_proportion(avg_time / 60)\n",
    "    avg_time_mins = convert_to_minute_proportion(avg_time)\n",
    "    \n",
    "    print(f\"Workout statistics from {lower_time} to {upper_time-dt.timedelta(days=1)}\")\n",
    "    print(f\"{workouts.shape[0]} workouts\")\n",
    "    print(f\"Time: {total_time_mins:.2f} minutes ({total_time_hours:.2f} hours)\\nCalories burned: {total_kcal:.2f}kcal\\nRunning distance: {total_dist:.2f}km\")\n",
    "    print(\"\\nAverage per workout:\")\n",
    "    print(f\"Time: {avg_time_mins:.2f} minutes ({avg_time_hours:.2f} hours)\\nCalories burned: {avg_kcal:.2f}kcal\\nRunning distance: {avg_dist:.2f}km\\nRunning pace: {avg_pace:.2f}km/h\")\n",
    "\n",
    "get_stats(workouts)"
   ]
  },
  {
   "cell_type": "code",
   "execution_count": null,
   "id": "2da9ed28",
   "metadata": {},
   "outputs": [],
   "source": [
    "def plot_workouts(workouts):\n",
    "    labels = []\n",
    "    slices = []\n",
    "    for wo_type in workouts.Type.unique():\n",
    "        labels.append(wo_type)\n",
    "        wo_of_type = workouts[workouts[\"Type\"] == wo_type]\n",
    "        num_workouts_of_type = wo_of_type.shape[0]\n",
    "        slices.append(num_workouts_of_type)\n",
    "    \n",
    "    def make_autopct(values):\n",
    "        def my_autopct(pct):\n",
    "            total = sum(values)\n",
    "            val = int(round(pct*total/100.0))\n",
    "            return '{p:.2f}%  ({v:d})'.format(p=pct,v=val)\n",
    "        return my_autopct\n",
    "\n",
    "    plt.figure(figsize=(10, 10))\n",
    "    plt.pie(slices, labels=labels, shadow=True,\n",
    "            startangle=90, autopct=make_autopct(slices),\n",
    "            wedgeprops={'edgecolor': 'black'})\n",
    "\n",
    "    plt.title(\"Workouts in 2021\")\n",
    "    plt.tight_layout()\n",
    "    plt.show()\n",
    "\n",
    "plot_workouts(workouts)"
   ]
  },
  {
   "cell_type": "code",
   "execution_count": null,
   "id": "cda3c19e",
   "metadata": {},
   "outputs": [],
   "source": []
  },
  {
   "cell_type": "code",
   "execution_count": null,
   "id": "ef35d7d3",
   "metadata": {},
   "outputs": [],
   "source": []
  }
 ],
 "metadata": {
  "kernelspec": {
   "display_name": "Python 3 (ipykernel)",
   "language": "python",
   "name": "python3"
  },
  "language_info": {
   "codemirror_mode": {
    "name": "ipython",
    "version": 3
   },
   "file_extension": ".py",
   "mimetype": "text/x-python",
   "name": "python",
   "nbconvert_exporter": "python",
   "pygments_lexer": "ipython3",
   "version": "3.10.4"
  }
 },
 "nbformat": 4,
 "nbformat_minor": 5
}
