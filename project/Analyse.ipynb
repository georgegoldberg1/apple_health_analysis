{
 "cells": [
  {
   "cell_type": "code",
   "execution_count": null,
   "id": "fe052e56",
   "metadata": {},
   "outputs": [],
   "source": [
    "import pandas as pd\n",
    "import datetime as dt\n",
    "import matplotlib.pyplot as plt\n",
    "# plt.style.use(\"fivethirtyeight\")\n",
    "#plt.style.use('plot-style.mplstyle')\n",
    "\n",
    "import seaborn as sns\n",
    "import math"
   ]
  },
  {
   "cell_type": "code",
   "execution_count": null,
   "id": "0e4f3b4c",
   "metadata": {},
   "outputs": [],
   "source": [
    "#import data since apple watch purchase:\n",
    "#daily_df = pd.read_csv('daily_health_agg_new.csv').set_index('day')\n",
    "#daily_df.index = pd.DatetimeIndex(daily_df.index)\n",
    "\n",
    "#all data:\n",
    "record_data = pd.read_parquet('record_data.parquet')\n",
    "workout_data = pd.read_parquet('workout_data.parquet')\n"
   ]
  },
  {
   "cell_type": "code",
   "execution_count": null,
   "id": "bec95757",
   "metadata": {},
   "outputs": [],
   "source": [
    "agg_types = {\n",
    "    'ActiveEnergyBurned': 'sum',\n",
    " 'AppleExerciseTime': 'sum',\n",
    " 'AppleStandHour': 'sum',\n",
    " 'AppleStandTime': 'sum',\n",
    " 'AppleWalkingSteadiness': 'mean',\n",
    " 'AudioExposureEvent': 'sum',\n",
    " 'BasalEnergyBurned': 'sum',\n",
    " 'BloodPressureDiastolic': ['mean', 'min', 'median', 'max'],\n",
    " 'BloodPressureSystolic': ['mean', 'min', 'median', 'max'],\n",
    " 'BodyFatPercentage': 'mean',\n",
    " 'BodyMass': 'mean',\n",
    " 'BodyMassIndex': 'mean',\n",
    " 'DietaryWater': 'sum',\n",
    " 'DistanceCycling': 'sum',\n",
    " 'DistanceSwimming': 'sum',\n",
    " 'DistanceWalkingRunning': 'sum',\n",
    " 'EnvironmentalAudioExposure': 'mean',\n",
    " 'FlightsClimbed': 'sum',\n",
    " 'HKDataTypeSleepDurationGoal': 'last',\n",
    " 'HeadphoneAudioExposure': 'mean',\n",
    " 'HeadphoneAudioExposureEvent': 'sum',\n",
    " 'HeartRate': ['mean','min','median','max'],\n",
    " 'HeartRateVariabilitySDNN': ['mean', 'min', 'median', 'max'],\n",
    " 'Height': 'mean',\n",
    " 'HighHeartRateEvent': 'sum',\n",
    " 'LeanBodyMass': 'mean',\n",
    " 'MindfulSession': 'sum',\n",
    " 'OxygenSaturation': 'mean',\n",
    " 'RespiratoryRate': ['mean', 'min', 'max'],\n",
    " 'RestingHeartRate': 'mean',\n",
    " 'SixMinuteWalkTestDistance': 'mean',\n",
    " 'SleepAnalysis': 'sum',\n",
    " 'StairAscentSpeed': 'mean',\n",
    " 'StairDescentSpeed': 'mean',\n",
    " 'StepCount': 'sum',\n",
    " 'SwimmingStrokeCount': 'sum',\n",
    " 'VO2Max': 'mean',\n",
    " 'WalkingAsymmetryPercentage': 'mean',\n",
    " 'WalkingDoubleSupportPercentage': 'mean',\n",
    " 'WalkingHeartRateAverage': 'mean',\n",
    " 'WalkingSpeed': 'mean',\n",
    " 'WalkingStepLength': 'mean'\n",
    "}\n",
    "\n",
    "def get_data(metric:str,agg=False,agg_field='day'): \n",
    "    \"\"\"Returns a timeseries or daily aggregate of the metric requested\n",
    "    agg_field to 'day' or 'week' as long as this field exists\"\"\"\n",
    "    \n",
    "    tmp = record_data[['creationDate','startDate','endDate','day']+[metric]].dropna().sort_values('startDate')\n",
    "    \n",
    "    if agg:\n",
    "        return tmp.groupby(agg_field).agg({metric:agg_types.get(metric)}) \n",
    "    \n",
    "    else:\n",
    "        return tmp.set_index('startDate')[metric]\n",
    "\n"
   ]
  },
  {
   "cell_type": "code",
   "execution_count": null,
   "id": "770891b2",
   "metadata": {},
   "outputs": [],
   "source": [
    "record_data['measure_time_secs'] = (record_data['endDate'] - record_data['startDate']).dt.total_seconds()"
   ]
  },
  {
   "cell_type": "markdown",
   "id": "a2d3cba3",
   "metadata": {},
   "source": [
    "GROUP DAILY!"
   ]
  },
  {
   "cell_type": "code",
   "execution_count": null,
   "id": "aade2afa",
   "metadata": {},
   "outputs": [],
   "source": [
    "output=[]\n",
    "for metric in agg_types:\n",
    "    output.append(get_data(metric,agg=True))\n",
    "    \n",
    "daily_df = pd.concat(output,axis=1)"
   ]
  },
  {
   "cell_type": "markdown",
   "id": "2fd27538",
   "metadata": {},
   "source": [
    "correlations:"
   ]
  },
  {
   "cell_type": "code",
   "execution_count": null,
   "id": "75af7e39",
   "metadata": {},
   "outputs": [],
   "source": [
    "daily_df.corr().loc[[('BloodPressureDiastolic', 'max')]].T.sort_values(('BloodPressureDiastolic', 'max'), \n",
    "                                                                       ascending=False)"
   ]
  },
  {
   "cell_type": "code",
   "execution_count": null,
   "id": "9d14bb14",
   "metadata": {},
   "outputs": [],
   "source": [
    "get_data('BloodPressureDiastolic',agg=True).plot()\n",
    "plt.show()"
   ]
  },
  {
   "cell_type": "code",
   "execution_count": null,
   "id": "7afd67b5",
   "metadata": {},
   "outputs": [],
   "source": [
    "get_data('RespiratoryRate',agg=False)#.plot()"
   ]
  },
  {
   "cell_type": "code",
   "execution_count": null,
   "id": "b1ac875a",
   "metadata": {},
   "outputs": [],
   "source": [
    "get_data('RespiratoryRate',agg=True).plot()"
   ]
  },
  {
   "cell_type": "code",
   "execution_count": null,
   "id": "aef627a9",
   "metadata": {},
   "outputs": [],
   "source": [
    "# FIND OUT WHAT ELSE IS GOING ON WHEN RESP RATE IS HIGH"
   ]
  },
  {
   "cell_type": "code",
   "execution_count": null,
   "id": "fe34eef4",
   "metadata": {},
   "outputs": [],
   "source": []
  },
  {
   "cell_type": "markdown",
   "id": "41a4ea4f",
   "metadata": {},
   "source": [
    "# WORKOUTS"
   ]
  },
  {
   "cell_type": "code",
   "execution_count": null,
   "id": "5d29a171",
   "metadata": {},
   "outputs": [],
   "source": [
    "workout_data = pd.read_parquet('workout_data.parquet')\n",
    "workout_data.head(2)"
   ]
  },
  {
   "cell_type": "code",
   "execution_count": null,
   "id": "ba844278",
   "metadata": {},
   "outputs": [],
   "source": [
    "fig,axes = plt.subplots(ncols=2, nrows=2, figsize=(14,10))\n",
    "\n",
    "ax=axes[0][0]\n",
    "sns.boxplot(\n",
    "    x='workoutType',\n",
    "    y='duration',\n",
    "    data=workout_data,\n",
    "    ax=ax)\n",
    "ax.set_title('duration')\n",
    "ax.xaxis.set_tick_params(rotation=45)\n",
    "\n",
    "ax=axes[1][0]\n",
    "sns.boxplot(\n",
    "    x='workoutType',\n",
    "    y='totalDistance',\n",
    "    data=workout_data,\n",
    "    ax=ax)\n",
    "ax.set_title('totalDistance')\n",
    "ax.xaxis.set_tick_params(rotation=45)\n",
    "\n",
    "ax=axes[0][1]\n",
    "sns.boxplot(\n",
    "    x='workoutType',\n",
    "    y='totalEnergyBurned',\n",
    "    data=workout_data,\n",
    "    ax=ax)\n",
    "ax.set_title('totalEnergyBurned')\n",
    "ax.xaxis.set_tick_params(rotation=45)\n",
    "\n",
    "# plt.setp(ax.xticks(), rotation=45)\n",
    "ax=axes[1][1]\n",
    "workout_data['energy_per_min'] = (workout_data.totalEnergyBurned / workout_data.duration)\n",
    "sns.boxplot(x='workoutType',\n",
    "            y='energy_per_min',\n",
    "            data=workout_data,\n",
    "            ax=ax)\n",
    "ax.set_title('energy_per_min')\n",
    "ax.xaxis.set_tick_params(rotation=45)\n",
    "\n",
    "plt.suptitle('Workouts',fontsize='xx-large',fontweight='bold')"
   ]
  },
  {
   "cell_type": "code",
   "execution_count": null,
   "id": "f2bc57b9",
   "metadata": {},
   "outputs": [],
   "source": [
    "fig,ax = plt.subplots()\n",
    "workout_data.groupby('workoutType')['duration'].agg(['min','mean','max']).sort_values('max',ascending=False\n",
    "                                                                                     ).plot(ax=ax)\n",
    "ax.xaxis.set_tick_params(rotation=45)\n",
    "handles,labels = ax.get_legend_handles_labels()\n",
    "ax.legend(handles[::-1],labels[::-1])\n",
    "ax.set_ylabel('workout duration')\n",
    "\n",
    "ax.set_title('Workout Duration by Type')\n",
    "fig.show()"
   ]
  },
  {
   "cell_type": "code",
   "execution_count": null,
   "id": "4961e4fc",
   "metadata": {},
   "outputs": [],
   "source": []
  },
  {
   "cell_type": "code",
   "execution_count": null,
   "id": "c02816fe",
   "metadata": {},
   "outputs": [],
   "source": [
    "\n",
    "get_data('EnvironmentalAudioExposure').plot()\n",
    "\n",
    "\n"
   ]
  },
  {
   "cell_type": "code",
   "execution_count": null,
   "id": "a722e7a3",
   "metadata": {},
   "outputs": [],
   "source": []
  },
  {
   "cell_type": "code",
   "execution_count": null,
   "id": "e8ca12b1",
   "metadata": {},
   "outputs": [],
   "source": [
    "\n",
    "n_plots = len(daily_df.columns)\n",
    "n_cols = 4\n",
    "\n",
    "fig,axes = plt.subplots(\n",
    "    ncols=n_cols, \n",
    "    nrows=math.ceil(n_plots/n_cols),\n",
    "    figsize=(14,14))\n",
    "\n",
    "for idx, c in enumerate(daily_df):\n",
    "    col_ix = idx % n_cols\n",
    "    row_ix = idx // n_cols\n",
    "    \n",
    "    ax = axes[row_ix][col_ix]\n",
    "    \n",
    "    d = daily_df.reindex(pd.DatetimeIndex(daily_df.index)).copy()\n",
    "    d[c].plot(ax=ax, label=c)\n",
    "    \n",
    "    ax.set_title(c)\n",
    "    \n",
    "fig.tight_layout()\n",
    "fig.show()"
   ]
  },
  {
   "cell_type": "code",
   "execution_count": null,
   "id": "cdddc11d",
   "metadata": {},
   "outputs": [],
   "source": [
    "\n",
    "n_plots = len(daily_df.columns)\n",
    "n_cols = 4\n",
    "\n",
    "fig,axes = plt.subplots(\n",
    "    ncols=n_cols, \n",
    "    nrows=math.ceil(n_plots/n_cols),\n",
    "    figsize=(16,16))\n",
    "\n",
    "for idx, c in enumerate(daily_df):\n",
    "    col_ix = idx % n_cols\n",
    "    row_ix = idx // n_cols\n",
    "    \n",
    "    ax = axes[row_ix][col_ix]\n",
    "    \n",
    "    d = daily_df.reindex(pd.DatetimeIndex(daily_df.index)).copy()\n",
    "    sns.kdeplot(d[c], ax=ax)\n",
    "    \n",
    "    ax.set_title(c+' \\nKDE PLOT')\n",
    "    \n",
    "fig.tight_layout()\n",
    "fig.show()"
   ]
  },
  {
   "cell_type": "code",
   "execution_count": null,
   "id": "49e8ea55",
   "metadata": {},
   "outputs": [],
   "source": [
    "for month in range(1,13):\n",
    "    sns.kdeplot(\n",
    "        daily_df.loc[pd.DatetimeIndex(daily_df.index).month == month]['BodyFatPercentage'],\n",
    "    label=f'month {month}')\n",
    "\n",
    "# plt.title('')\n",
    "plt.legend()"
   ]
  },
  {
   "cell_type": "code",
   "execution_count": null,
   "id": "df342086",
   "metadata": {},
   "outputs": [],
   "source": [
    "#PLOT ALL DISTRIBUTIONS BY MONTH \n",
    "\n",
    "n_plots = len(daily_df.columns)\n",
    "n_cols = 4\n",
    "\n",
    "fig,axes = plt.subplots(\n",
    "    ncols=n_cols, \n",
    "    nrows=math.ceil(n_plots/n_cols),\n",
    "    figsize=(16,16))\n",
    "\n",
    "for idx, c in enumerate(daily_df):\n",
    "    col_ix = idx % n_cols\n",
    "    row_ix = idx // n_cols\n",
    "    ax = axes[row_ix][col_ix]\n",
    "    \n",
    "    for month in range(1,13):\n",
    "        d = daily_df.loc[pd.DatetimeIndex(daily_df.index).month == month]\n",
    "    \n",
    "\n",
    "#         d = daily_df.reindex(pd.DatetimeIndex(daily_df.index)).copy()\n",
    "        \n",
    "        sns.kdeplot(d[c], ax=ax)\n",
    "    \n",
    "    ax.set_title(c+' \\nKDE PLOT')\n",
    "    \n",
    "fig.tight_layout()\n",
    "fig.show()"
   ]
  },
  {
   "cell_type": "code",
   "execution_count": null,
   "id": "9f8b6a55",
   "metadata": {},
   "outputs": [],
   "source": [
    "thresh = 0.4\n",
    "\n",
    "fig,ax = plt.subplots(figsize=(16,16))\n",
    "\n",
    "d_filt_corr = (d.corr() >= thresh) | (d.corr() <= - thresh)\n",
    "\n",
    "sns.heatmap(d.corr()[d_filt_corr], annot=True, ax=ax)\n",
    "\n",
    "ax.grid()\n",
    "ax.set_title('correlations\\n')"
   ]
  },
  {
   "cell_type": "markdown",
   "id": "e9f3556a",
   "metadata": {},
   "source": [
    "POTENTIALLY INTERESTING:\n",
    "\n",
    "BloodPressure Diastolic inverse relationship with VO2 max. is VO2max a fitness measure? probably. goes up if fitter => hence relationship? or VO2 max is calcuated based on recovery time after workouts? so high blood pressure might make recovery slower?\n",
    "\n",
    "Stand and step count correlated, no surprise here really. Days I barely move I also barely stand.\n",
    "\n",
    "Audio event and blood pressure? warnings occur when I'm:\n",
    "    - on the tube sometimes (work /stress?  /commute /exercise/higher heart rate related)\n",
    "    - at a loud music event - higher heartrate/exercise dancing linked / alcohol\n",
    "    - using a hand drier (not work related, more likely bars/pubs etc or traveling)\n",
    "    - swimming/in water (exercise related)"
   ]
  },
  {
   "cell_type": "code",
   "execution_count": null,
   "id": "21937ae3",
   "metadata": {},
   "outputs": [],
   "source": [
    "#BLOOD PRESSURE\n",
    "bp = record_data[record_data.sourceName == '1byone Health'].copy()\n",
    "bp['day'] = bp['startDate'].dt.date\n",
    "bp['week'] = bp['startDate'].apply(lambda x:x.date() - pd.Timedelta(days=x.weekday()))\n",
    "bp['month'] = pd.to_datetime(bp['startDate'].dt.strftime('%Y-%m-01')).dt.date\n",
    "\n",
    "#WEEKLY BP\n",
    "min_dt = bp.week.min()\n",
    "max_dt = bp.week.max()\n",
    "daterange_full = pd.DataFrame(pd.date_range(min_dt, max_dt,freq='7d'))\n",
    "daterange_full = daterange_full.set_index(daterange_full[0].dt.date).drop(columns=[0])\n",
    "\n",
    "bp_weekly = pd.concat([\n",
    "    daterange_full,\n",
    "    bp.groupby(['week','type'])['value'].mean().unstack()\n",
    "], axis=1)\n",
    "\n",
    "bp_weekly.plot()"
   ]
  },
  {
   "cell_type": "code",
   "execution_count": null,
   "id": "713a2f02",
   "metadata": {},
   "outputs": [],
   "source": [
    "# RESTING HR\n",
    "rest_hr = record_data[(\n",
    "    record_data.sourceName == 'George’s Apple\\xa0Watch') & (\n",
    "    record_data.type == 'RestingHeartRate')].copy()\n",
    "\n",
    "rest_hr['day'] = rest_hr['startDate'].dt.date\n",
    "rest_hr['week'] = rest_hr['startDate'].apply(lambda x:x.date() - pd.Timedelta(days=x.weekday()))\n",
    "rest_hr['month'] = pd.to_datetime(rest_hr['startDate'].dt.strftime('%Y-%m-01')).dt.date\n",
    "\n",
    "#WEEKLY\n",
    "min_dt = rest_hr.week.min()\n",
    "max_dt = rest_hr.week.max()\n",
    "daterange_full = pd.DataFrame(pd.date_range(min_dt, max_dt,freq='7d'))\n",
    "daterange_full = daterange_full.set_index(daterange_full[0].dt.date).drop(columns=[0])\n",
    "\n",
    "rest_hr_weekly = pd.concat([\n",
    "    daterange_full,\n",
    "    rest_hr.groupby(['week','type'])['value'].mean().unstack()\n",
    "], axis=1)\n",
    "\n",
    "rest_hr_weekly.plot()"
   ]
  },
  {
   "cell_type": "code",
   "execution_count": null,
   "id": "852a3903",
   "metadata": {},
   "outputs": [],
   "source": [
    "# BODY MASS\n",
    "bm = record_data[(\n",
    "    record_data.type == 'BodyMass')].copy()\n",
    "\n",
    "bm['day'] = bm['startDate'].dt.date\n",
    "bm['week'] = bm['startDate'].apply(lambda x:x.date() - pd.Timedelta(days=x.weekday()))\n",
    "bm['month'] = pd.to_datetime(bm['startDate'].dt.strftime('%Y-%m-01')).dt.date\n",
    "\n",
    "#WEEKLY\n",
    "min_dt = bm.week.min()\n",
    "max_dt = bm.week.max()\n",
    "daterange_full = pd.DataFrame(pd.date_range(min_dt, max_dt,freq='1d'))\n",
    "daterange_full = daterange_full.set_index(daterange_full[0].dt.date).drop(columns=[0])\n",
    "\n",
    "bm_daily = pd.concat([\n",
    "    daterange_full,\n",
    "    bm.groupby(['day','type'])['value'].mean().unstack()\n",
    "], axis=1)\n",
    "\n",
    "bm_daily.tail(350).plot()"
   ]
  },
  {
   "cell_type": "markdown",
   "id": "6b498e01",
   "metadata": {},
   "source": [
    "BELOW IS INCORRECT - I\"VE DEFINITELY HAD MANY ALERTS ABOVE 100DB but this indiciates the max was 90 ish??"
   ]
  },
  {
   "cell_type": "code",
   "execution_count": null,
   "id": "c04e172b",
   "metadata": {},
   "outputs": [],
   "source": [
    "#AUDIO EXPOSURE EVENTS;\n",
    "# HeadphoneAudioExposure\n",
    "\n",
    "\n",
    "# BODY MASS\n",
    "ae = record_data[(\n",
    "    record_data.type == 'HeadphoneAudioExposure')].copy()\n",
    "\n",
    "ae['day'] = ae['startDate'].dt.date\n",
    "ae['week'] = ae['startDate'].apply(lambda x:x.date() - pd.Timedelta(days=x.weekday()))\n",
    "ae['month'] = pd.to_datetime(ae['startDate'].dt.strftime('%Y-%m-01')).dt.date\n",
    "\n",
    "#WEEKLY\n",
    "min_dt = ae.week.min()\n",
    "max_dt = ae.week.max()\n",
    "daterange_full = pd.DataFrame(pd.date_range(min_dt, max_dt,freq='1d'))\n",
    "daterange_full = daterange_full.set_index(daterange_full[0].dt.date).drop(columns=[0])\n",
    "\n",
    "ae_mean_daily = pd.concat([\n",
    "    daterange_full,\n",
    "    ae.groupby(['day','type'])['value'].mean().unstack()\n",
    "], axis=1)\n",
    "\n",
    "ae_max_daily = pd.concat([\n",
    "    daterange_full,\n",
    "    ae.groupby(['day','type'])['value'].max().unstack()\n",
    "], axis=1)\n",
    "\n",
    "fig,ax = plt.subplots(figsize=(12,5))\n",
    "\n",
    "ae_mean_daily['HeadphoneAudioExposure'].tail(400).plot(label='mean', ax=ax)\n",
    "ae_max_daily['HeadphoneAudioExposure'].tail(400).plot(label='max', ax=ax)\n",
    "\n",
    "ax.legend()\n",
    "fig.show()\n"
   ]
  },
  {
   "cell_type": "code",
   "execution_count": null,
   "id": "1e2a22c5",
   "metadata": {},
   "outputs": [],
   "source": [
    "fig,ax = plt.subplots(figsize=(14,5))\n",
    "sns.boxplot(\n",
    "    x='month',\n",
    "    y='value',\n",
    "    hue='type',\n",
    "    data=bp\n",
    ")"
   ]
  },
  {
   "cell_type": "code",
   "execution_count": null,
   "id": "2d86c94f",
   "metadata": {},
   "outputs": [],
   "source": [
    "# bp.groupby(['type','month'])['value'].mean()"
   ]
  },
  {
   "cell_type": "code",
   "execution_count": null,
   "id": "d62c3edd",
   "metadata": {},
   "outputs": [],
   "source": [
    "# bp.groupby(['type','month'])['value'].mean().unstack().T.plot()"
   ]
  },
  {
   "cell_type": "code",
   "execution_count": null,
   "id": "c8356d9e",
   "metadata": {},
   "outputs": [],
   "source": [
    "# bp.groupby(['type','startDate'])['value'].mean().unstack().T"
   ]
  },
  {
   "cell_type": "markdown",
   "id": "c44a8e73",
   "metadata": {},
   "source": [
    "# REAGG TO GET MAX BEFORE/INSTEAD OF THE MEAN AGG (useful for audio exposure etc)"
   ]
  },
  {
   "cell_type": "code",
   "execution_count": null,
   "id": "42a995e9",
   "metadata": {},
   "outputs": [],
   "source": [
    "agg_types = {'BodyMass':'mean',\n",
    "'LeanBodyMass':'mean',\n",
    "'BodyFatPercentage':'mean',\n",
    "'OxygenSaturation':['mean','min'],\n",
    "'AppleStandHour':'sum',\n",
    "'EnvironmentalAudioExposure':['mean','median','max'],\n",
    "'HeadphoneAudioExposure':['mean','median','max'],\n",
    "'VO2Max':'mean',\n",
    "'HeartRate':['mean','median','max','min'],\n",
    "'RestingHeartRate':'mean',\n",
    "'WalkingHeartRateAverage':'mean',\n",
    "'BloodPressureSystolic':'mean',\n",
    "'BloodPressureDiastolic':'mean',\n",
    "'HeartRateVariabilitySDNN':'mean',\n",
    "'StepCount':'sum',\n",
    "'AppleStandTime':'sum',\n",
    "'SleepAnalysis':'sum',\n",
    "'HighHeartRateEvent':'sum',\n",
    "'AudioExposureEvent':'sum',\n",
    "'HeadphoneAudioExposureEvent':'sum'}\n",
    "\n",
    "re_agg = record_data.copy()\n",
    "re_agg['day'] = re_agg['startDate'].dt.date\n",
    "re_agg_daily = re_agg.groupby('day').agg(agg_types)"
   ]
  },
  {
   "cell_type": "markdown",
   "id": "b04ba4d6",
   "metadata": {},
   "source": [
    "# PROPER HEART RATE FROM RAW DATA"
   ]
  },
  {
   "cell_type": "code",
   "execution_count": null,
   "id": "6b1037a5",
   "metadata": {},
   "outputs": [],
   "source": [
    "fig,axes = plt.subplots(nrows=3, figsize=(12,10))\n",
    "\n",
    "d = record_data[(record_data['type']=='HeartRate') & (record_data['day'] >= pd.Timestamp('2021-07-01'))].copy()\n",
    "\n",
    "\n",
    "ax=axes[0]\n",
    "ax.set_title('Heart Rate')\n",
    "d.groupby('day')['value'].max( ).plot(label='daily max' , ax=ax, color='red',alpha=0.3)\n",
    "d.groupby('day')['value'].mean().plot(label='daily mean', ax=ax, color='black')\n",
    "d.groupby('day')['value'].min( ).plot(label='daily min' , ax=ax, color='blue',alpha=0.3)\n",
    "ax.legend()\n",
    "ax.set_ylim(0)\n",
    "\n",
    "ax=axes[1]\n",
    "d.groupby('week')['value'].max( ).plot(label='weekly max' , ax=ax, color='red',alpha=0.3)\n",
    "d.groupby('week')['value'].mean().plot(label='weekly mean', ax=ax, color='black')\n",
    "d.groupby('week')['value'].min( ).plot(label='weekly min' , ax=ax, color='blue',alpha=0.3)\n",
    "ax.legend()\n",
    "ax.set_ylim(0)\n",
    "\n",
    "ax=axes[2]\n",
    "d.groupby('month')['value'].max( ).plot(label='monthly max' , ax=ax, color='red',alpha=0.3)\n",
    "d.groupby('month')['value'].mean().plot(label='monthly mean', ax=ax, color='black')\n",
    "d.groupby('month')['value'].min( ).plot(label='monthly min' , ax=ax, color='blue',alpha=0.3)\n",
    "ax.legend()\n",
    "ax.set_ylim(0)\n",
    "\n",
    "fig.tight_layout()\n",
    "fig.show()"
   ]
  },
  {
   "cell_type": "code",
   "execution_count": null,
   "id": "db1b132f",
   "metadata": {},
   "outputs": [],
   "source": [
    "for period in ['day','week','month']:\n",
    "    for agg_type in ['max','mean','min']:\n",
    "        print(f\"{period} {agg_type} | std: {d.groupby(period)['value'].agg(agg_type).std():.1f}\")"
   ]
  },
  {
   "cell_type": "code",
   "execution_count": null,
   "id": "77af95db",
   "metadata": {},
   "outputs": [],
   "source": []
  }
 ],
 "metadata": {
  "kernelspec": {
   "display_name": "Python 3",
   "language": "python",
   "name": "python3"
  },
  "language_info": {
   "codemirror_mode": {
    "name": "ipython",
    "version": 3
   },
   "file_extension": ".py",
   "mimetype": "text/x-python",
   "name": "python",
   "nbconvert_exporter": "python",
   "pygments_lexer": "ipython3",
   "version": "3.6.6+"
  }
 },
 "nbformat": 4,
 "nbformat_minor": 5
}
