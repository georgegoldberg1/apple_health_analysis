{
 "cells": [
  {
   "cell_type": "markdown",
   "id": "6301c66d",
   "metadata": {},
   "source": [
    "UNZIP APPLE HEALTH EXPORT"
   ]
  },
  {
   "cell_type": "code",
   "execution_count": null,
   "id": "ff25d7e6",
   "metadata": {},
   "outputs": [],
   "source": [
    "import zipfile\n",
    "with zipfile.ZipFile('export.zip', 'r') as zip_ref:\n",
    "    zip_ref.extractall()"
   ]
  },
  {
   "cell_type": "markdown",
   "id": "7a7ca720",
   "metadata": {},
   "source": [
    "IMPORT LIBRARIES"
   ]
  },
  {
   "cell_type": "code",
   "execution_count": null,
   "id": "926b8de8",
   "metadata": {},
   "outputs": [],
   "source": [
    "import xml.etree.ElementTree as ET\n",
    "import pandas as pd\n",
    "import datetime as dt\n",
    "import matplotlib.pyplot as plt\n",
    "# plt.style.use(\"fivethirtyeight\")\n",
    "plt.style.use('plot-style.mplstyle')\n",
    "\n",
    "import seaborn as sns\n",
    "\n"
   ]
  },
  {
   "cell_type": "code",
   "execution_count": null,
   "id": "4f7a1ce4",
   "metadata": {},
   "outputs": [],
   "source": [
    "# create element tree object\n",
    "tree = ET.parse('apple_health_export/Export.xml') \n",
    "# for every health record, extract the attributes\n",
    "root = tree.getroot()\n",
    "record_list = [x.attrib for x in root.iter('Record')]"
   ]
  },
  {
   "cell_type": "code",
   "execution_count": null,
   "id": "c8214f5c",
   "metadata": {},
   "outputs": [],
   "source": [
    "import sys"
   ]
  },
  {
   "cell_type": "code",
   "execution_count": null,
   "id": "e9e624a1",
   "metadata": {},
   "outputs": [],
   "source": [
    "record_data = pd.DataFrame(record_list)\n",
    "\n",
    "# proper type to dates\n",
    "for col in ['creationDate', 'startDate', 'endDate']:\n",
    "    record_data[col] = pd.to_datetime(record_data[col])\n",
    "\n",
    "# value is numeric, NaN if fails\n",
    "record_data['value'] = pd.to_numeric(record_data['value'], errors='coerce')\n",
    "\n",
    "# some records do not measure anything, just count occurences\n",
    "# filling with 1.0 (= one time) makes it easier to aggregate\n",
    "record_data['value'] = record_data['value'].fillna(1.0)\n",
    "\n",
    "# shorter observation names\n",
    "record_data['type'] = record_data['type'].str.replace('HKQuantityTypeIdentifier', '')\n",
    "record_data['type'] = record_data['type'].str.replace('HKCategoryTypeIdentifier', '')\n",
    "record_data.tail()"
   ]
  },
  {
   "cell_type": "code",
   "execution_count": null,
   "id": "c8808240",
   "metadata": {},
   "outputs": [],
   "source": [
    "#add time length for each measurement. add date field.\n",
    "record_data['measure_time_secs'] = (record_data['endDate'] - record_data['startDate']).dt.total_seconds()\n",
    "record_data['day'] = record_data['startDate'].dt.date\n",
    "\n",
    "# Create new values field for each measurement type\n",
    "rec_types = record_data.sort_values('type').type.unique()\n",
    "\n",
    "pivoted_rectypes = pd.concat([\n",
    "    record_data.query(f\"type == '{x}'\")['value'].rename(x) for x in rec_types\n",
    "], axis=1)\n",
    "\n",
    "record_data = pd.concat([record_data,pivoted_rectypes],axis=1)\n",
    "record_data.drop(columns=['value', 'type'],inplace=True)\n",
    "\n",
    "#export to file\n",
    "try:\n",
    "    record_data.to_parquet('record_data.parquet',index=False)\n",
    "except:\n",
    "    record_data.to_csv('record_data.csv',index=False)\n",
    "\n",
    "record_data.head(2)"
   ]
  },
  {
   "cell_type": "code",
   "execution_count": null,
   "id": "71dea22e",
   "metadata": {},
   "outputs": [],
   "source": [
    "record_data.columns"
   ]
  },
  {
   "cell_type": "markdown",
   "id": "5289bd55",
   "metadata": {},
   "source": [
    "# Sleep HRV DATA"
   ]
  },
  {
   "cell_type": "markdown",
   "id": "50d9965a",
   "metadata": {},
   "source": [
    "Heart Rate Variability measurements are supposedly more accurate during sleep. Therefore below filters HRV measurements using the Sleep data from the Apple Watch to HRV during sleep only."
   ]
  },
  {
   "cell_type": "code",
   "execution_count": null,
   "id": "41e72c7f",
   "metadata": {},
   "outputs": [],
   "source": [
    "record_data['date'] = pd.to_datetime(record_data['day'], yearfirst=True)\n",
    "\n",
    "# Get Sleep Times\n",
    "sleep_data = record_data.query(\"SleepAnalysis ==1\").query(\"sourceName == 'George’s Apple\\xa0Watch'\")\n",
    "when_asleep = pd.concat([\n",
    "    sleep_data.groupby('date')['startDate'].min().rename('sleep_start')\n",
    "    , sleep_data.groupby('date')['endDate'].max().rename('sleep_end')\n",
    "], axis=1)\n",
    "\n",
    "# record_data[['startDate','endDate','day','HeartRateVariabilitySDNN']] \n",
    "hrv_data = record_data.dropna(subset='HeartRateVariabilitySDNN')[['startDate','endDate','date','HeartRateVariabilitySDNN']]\n",
    "\n",
    "merged_hrv_sleep = hrv_data.merge(\n",
    "    right=when_asleep,\n",
    "    on='date'\n",
    ")\n",
    "\n",
    "hrv_asleep = merged_hrv_sleep[\n",
    "    (\n",
    "        merged_hrv_sleep.startDate > merged_hrv_sleep.sleep_start\n",
    "    ) & (\n",
    "        merged_hrv_sleep.endDate < merged_hrv_sleep.sleep_end\n",
    "    )\n",
    "]\n",
    "hrv_asleep"
   ]
  },
  {
   "cell_type": "code",
   "execution_count": null,
   "id": "ff2c27b7",
   "metadata": {},
   "outputs": [],
   "source": [
    "hrv_asleep.to_csv('sleeping_hrv_measurements.csv', index=False)"
   ]
  },
  {
   "cell_type": "code",
   "execution_count": null,
   "id": "d15c24ae",
   "metadata": {},
   "outputs": [],
   "source": [
    "import plotly.express as px\n",
    "import pandas as pd"
   ]
  },
  {
   "cell_type": "code",
   "execution_count": null,
   "id": "e4115648",
   "metadata": {},
   "outputs": [],
   "source": [
    "hrv_asleep = pd.read_csv('sleeping_hrv_measurements.csv')\n",
    "hrv_asleep['date'] = pd.to_datetime(hrv_asleep['date'])"
   ]
  },
  {
   "cell_type": "code",
   "execution_count": null,
   "id": "3c20994f",
   "metadata": {},
   "outputs": [],
   "source": [
    "to_plot = hrv_asleep.assign(year = lambda x: x.date.dt.strftime('%Y'))"
   ]
  },
  {
   "cell_type": "code",
   "execution_count": null,
   "id": "7e0d3746",
   "metadata": {},
   "outputs": [],
   "source": [
    "fig = px.histogram(\n",
    "    to_plot,\n",
    "    x='HeartRateVariabilitySDNN',\n",
    "    color='year',\n",
    "    title='Heart Rate Variability Measurements<br>(When asleep) 2021-2023'\n",
    ")\n",
    "with open('HRV During Sleep 2021-2023.html', 'w') as f:\n",
    "    f.write(fig.to_html(full_html=False, include_plotlyjs='cdn'))"
   ]
  },
  {
   "cell_type": "code",
   "execution_count": null,
   "id": "241ba235",
   "metadata": {},
   "outputs": [],
   "source": [
    "sns.kdeplot(hrv_asleep,x='HeartRateVariabilitySDNN')"
   ]
  }
 ],
 "metadata": {
  "kernelspec": {
   "display_name": "Python 3 (ipykernel)",
   "language": "python",
   "name": "python3"
  },
  "language_info": {
   "codemirror_mode": {
    "name": "ipython",
    "version": 3
   },
   "file_extension": ".py",
   "mimetype": "text/x-python",
   "name": "python",
   "nbconvert_exporter": "python",
   "pygments_lexer": "ipython3",
   "version": "3.11.5"
  }
 },
 "nbformat": 4,
 "nbformat_minor": 5
}
